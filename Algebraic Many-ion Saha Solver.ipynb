{
 "cells": [
  {
   "cell_type": "code",
   "execution_count": 3,
   "metadata": {},
   "outputs": [],
   "source": [
    "#Importing\n",
    "import numpy as np\n",
    "import matplotlib.pyplot as plt\n",
    "from scipy.optimize import root_scalar\n",
    "from sympy import *\n",
    "import math\n",
    "from sympy.solvers.solveset import linsolve\n",
    "from pylab import array\n",
    "#---------------------------------\n",
    "#WE USE NATURAL UNITS IN THIS CODE\n",
    "#---------------------------------"
   ]
  },
  {
   "cell_type": "code",
   "execution_count": 2,
   "metadata": {},
   "outputs": [],
   "source": [
    "# Global Constants\n",
    "h =  2*math.pi\n",
    "kb = 1\n",
    "me = 511e3 #[eV]"
   ]
  },
  {
   "cell_type": "code",
   "execution_count": 3,
   "metadata": {},
   "outputs": [],
   "source": [
    "#Ionisation energies (eV)\n",
    "xi_H1  = 13.6\n",
    "xi_He1 = 24.6\n",
    "xi_He2 = 54.4\n",
    "\n",
    "#Partition Functions (taken from independent solutions for\n",
    "# each element, so might not be as obvious as they are here...)\n",
    "zh0  = 2\n",
    "zh1  = 1\n",
    "zhe0 = 1\n",
    "zhe1 = 2\n",
    "zhe2 = 1"
   ]
  },
  {
   "cell_type": "code",
   "execution_count": 4,
   "metadata": {},
   "outputs": [],
   "source": [
    "#Total Densities (GIVEN in g/cm^3, transformed to eV&**4)\n",
    "nH = (0.36209)*4.31013646*(10**18)/(0.93878405573*10**9)\n",
    "nHe = (0.62194)*4.31013646*(10**18)/(0.372784341*10**(10))"
   ]
  },
  {
   "cell_type": "code",
   "execution_count": 5,
   "metadata": {},
   "outputs": [],
   "source": [
    "# Temperature (6700K expressed in eV/Kb)\n",
    "T = (15490000)/11604.51812"
   ]
  },
  {
   "cell_type": "code",
   "execution_count": 6,
   "metadata": {},
   "outputs": [],
   "source": [
    "#Define the right side of the Saha Equation, which depends on \n",
    "# the Temperature [T], the difference in energies of the states [xi]\n",
    "# and the fraction of the partition functions G(r+1)/G(r) [z0,z1]\n",
    "\n",
    "def lam(T,xi,z0,z1):\n",
    "    return (z1/z0) * ((2*math.pi*me*kb*T)**1.5 / (h**3)) * math.exp((-xi) / (kb*T));"
   ]
  },
  {
   "cell_type": "code",
   "execution_count": 7,
   "metadata": {},
   "outputs": [
    {
     "name": "stdout",
     "output_type": "stream",
     "text": [
      "(-3.91772430285992e-47*n_e**12 - 2.84395232316378e-34*n_e**11 - 9.27516192647486e-22*n_e**10 - 1.79637451607351e-9*n_e**9 - 2298.25975129704*n_e**8 - 2.04137083121144e+15*n_e**7 - 1.28545868163522e+27*n_e**6 - 5.74157192631066e+38*n_e**5 - 1.78298929253598e+50*n_e**4 - 3.66446600553884e+61*n_e**3 - 4.47408930680409e+72*n_e**2 - 2.42025089014163e+83*n_e + 7.90971428705038e+92)/(3.91772430285992e-47*n_e**8 + 1.75455511937983e-34*n_e**7 + 3.43778109476446e-22*n_e**6 + 3.84903068263572e-10*n_e**5 + 269.342287719279*n_e**4 + 120625101015495.0*n_e**3 + 3.37637637553303e+25*n_e**2 + 5.40040047731652e+36*n_e + 3.7790195482793e+47)\n"
     ]
    }
   ],
   "source": [
    "#Making the electron density into a symbolic variable\n",
    "nE = symbols('n_e')\n",
    "\n",
    "#The matrix representing the system of equations and their value\n",
    "M = Matrix([[-lam(T,xi_H1,zh0,zh1), nE,                        0,                        0,   0,   0],\n",
    "            [                    0,  0, -lam(T,xi_He1,zhe0,zhe1),                       nE,   0,   0],\n",
    "            [                    0,  0,                        0, -lam(T,xi_He2,zhe1,zhe2),  nE,   0],\n",
    "            [                    1,  1,                        0,                        0,   0,  nH],\n",
    "            [                    0,  0,                        1,                        1,   1, nHe],\n",
    "            [                    0,  1,                        0,                        1,   2,  nE]])\n",
    "\n",
    "expr = M.det()\n",
    "\n",
    "print(expr)\n",
    "\n",
    "def eq(ne):\n",
    "    return expr.subs(nE,ne)"
   ]
  },
  {
   "cell_type": "code",
   "execution_count": 8,
   "metadata": {},
   "outputs": [
    {
     "name": "stdout",
     "output_type": "stream",
     "text": [
      "The maximum electron density:\n",
      "3100599536.992421\n",
      "      converged: True\n",
      "           flag: 'converged'\n",
      " function_calls: 6\n",
      "     iterations: 5\n",
      "           root: 3087404396.3414354\n",
      "\n",
      "The ionisation percentage:\n",
      "99.57443260590225\n"
     ]
    }
   ],
   "source": [
    "max_ne = nH + 2*nHe;\n",
    "print(\"The maximum electron density:\")\n",
    "print(max_ne)\n",
    "min_ne = 0\n",
    "sol = root_scalar(eq, method='brentq', bracket=(min_ne,max_ne))\n",
    "print(sol)\n",
    "print(\"\\nThe ionisation percentage:\")\n",
    "print((sol.root * 100)/max_ne)"
   ]
  },
  {
   "cell_type": "code",
   "execution_count": 9,
   "metadata": {},
   "outputs": [
    {
     "data": {
      "text/latex": [
       "$\\displaystyle \\left[\\begin{matrix}-559813230763.524 & 3087404396.34144 & 0 & 0 & 0 & 0\\\\0 & 0 & -2220875555807.54 & 3087404396.34144 & 0 & 0\\\\0 & 0 & 0 & -542960951771.586 & 3087404396.34144 & 0\\\\1 & 1 & 0 & 0 & 0 & 1662424176.54594\\\\0 & 0 & 1 & 1 & 1 & 719087680.223242\\\\0 & 1 & 0 & 1 & 2 & 3087404396.34144\\end{matrix}\\right]$"
      ],
      "text/plain": [
       "Matrix([\n",
       "[-559813230763.524, 3087404396.34144,                 0,                 0,                0,                0],\n",
       "[                0,                0, -2220875555807.54,  3087404396.34144,                0,                0],\n",
       "[                0,                0,                 0, -542960951771.586, 3087404396.34144,                0],\n",
       "[                1,                1,                 0,                 0,                0, 1662424176.54594],\n",
       "[                0,                0,                 1,                 1,                1, 719087680.223242],\n",
       "[                0,                1,                 0,                 1,                2, 3087404396.34144]])"
      ]
     },
     "execution_count": 9,
     "metadata": {},
     "output_type": "execute_result"
    }
   ],
   "source": [
    "M.subs(nE,sol.root)"
   ]
  },
  {
   "cell_type": "code",
   "execution_count": 10,
   "metadata": {
    "scrolled": false
   },
   "outputs": [
    {
     "name": "stdout",
     "output_type": "stream",
     "text": [
      "None\n"
     ]
    }
   ],
   "source": [
    "#Now we know the value of ne, we compute the equations\n",
    "nh0, nh1, nhe0, nhe1, nhe2 = symbols('nh0, nh1, nhe0, nhe1, nhe2')\n",
    "valuez = solve_linear_system(M, nh0, nh1, nhe0, nhe1, nhe2)\n",
    "print(valuez)"
   ]
  },
  {
   "cell_type": "code",
   "execution_count": 16,
   "metadata": {},
   "outputs": [
    {
     "name": "stdout",
     "output_type": "stream",
     "text": [
      "[[-5.59813231e+11  3.08740440e+09  0.00000000e+00  0.00000000e+00\n",
      "   0.00000000e+00  0.00000000e+00]\n",
      " [ 0.00000000e+00  0.00000000e+00 -2.22087556e+12  3.08740440e+09\n",
      "   0.00000000e+00  0.00000000e+00]\n",
      " [ 0.00000000e+00  0.00000000e+00  0.00000000e+00 -5.42960952e+11\n",
      "   3.08740440e+09  0.00000000e+00]\n",
      " [ 1.00000000e+00  1.00000000e+00  0.00000000e+00  0.00000000e+00\n",
      "   0.00000000e+00  1.66242418e+09]\n",
      " [ 0.00000000e+00  0.00000000e+00  1.00000000e+00  1.00000000e+00\n",
      "   1.00000000e+00  7.19087680e+08]\n",
      " [ 0.00000000e+00  1.00000000e+00  0.00000000e+00  1.00000000e+00\n",
      "   2.00000000e+00  3.08740440e+09]]\n"
     ]
    }
   ],
   "source": [
    "#try converting to numpy matrix\n",
    "MM = np.array(np.array(M.subs(nE,sol.root)), np.float64)\n",
    "print(MM)\n",
    "\n",
    "#Then split into system of equations and results(not overdetermined so only taking up tp 5 rows)\n"
   ]
  },
  {
   "cell_type": "code",
   "execution_count": 22,
   "metadata": {},
   "outputs": [
    {
     "name": "stdout",
     "output_type": "stream",
     "text": [
      "[9.11808477e+06 1.65330609e+09 5.65210398e+03 4.06575167e+06\n",
      " 7.15016276e+08]\n"
     ]
    }
   ],
   "source": [
    "xx = np.linalg.solve(m1, m2)\n",
    "print(xx)\n",
    "#So it seems using the overdetermined matrix for solving is ruining the solver,\n",
    "#this is without that that last equation."
   ]
  },
  {
   "cell_type": "code",
   "execution_count": 4,
   "metadata": {},
   "outputs": [],
   "source": [
    "File_data = np.loadtxt(\"reduced_data.txt\", dtype=np.float64)"
   ]
  },
  {
   "cell_type": "code",
   "execution_count": 5,
   "metadata": {},
   "outputs": [
    {
     "name": "stdout",
     "output_type": "stream",
     "text": [
      "[[4.0000e-07 1.5000e-03 1.5490e+07 1.5050e+02 2.3340e+17 0.0000e+00\n",
      "  3.6209e-01 6.2194e-01 8.6200e-06]\n",
      " [9.0000e-07 2.0000e-03 1.5490e+07 1.5050e+02 2.3330e+17 1.0000e-05\n",
      "  3.6213e-01 6.2189e-01 8.6240e-06]\n",
      " [1.7000e-06 2.5000e-03 1.5490e+07 1.5050e+02 2.3330e+17 1.0000e-05\n",
      "  3.6219e-01 6.2183e-01 8.6290e-06]\n",
      " [2.9000e-06 3.0000e-03 1.5490e+07 1.5040e+02 2.3330e+17 2.0000e-05\n",
      "  3.6226e-01 6.2175e-01 8.6350e-06]\n",
      " [4.6000e-06 3.5000e-03 1.5490e+07 1.5040e+02 2.3320e+17 4.0000e-05\n",
      "  3.6236e-01 6.2165e-01 8.6430e-06]\n",
      " [6.8000e-06 4.0000e-03 1.5490e+07 1.5030e+02 2.3320e+17 6.0000e-05\n",
      "  3.6247e-01 6.2154e-01 8.6510e-06]\n",
      " [9.7000e-06 4.5000e-03 1.5480e+07 1.5030e+02 2.3310e+17 8.0000e-05\n",
      "  3.6259e-01 6.2142e-01 8.6610e-06]\n",
      " [1.3300e-05 5.0000e-03 1.5480e+07 1.5020e+02 2.3300e+17 1.1000e-04\n",
      "  3.6273e-01 6.2128e-01 8.6720e-06]\n",
      " [1.7800e-05 5.5000e-03 1.5480e+07 1.5020e+02 2.3290e+17 1.5000e-04\n",
      "  3.6288e-01 6.2113e-01 8.6840e-06]\n",
      " [2.3000e-05 6.0000e-03 1.5480e+07 1.5010e+02 2.3290e+17 1.9000e-04\n",
      "  3.6305e-01 6.2096e-01 8.6980e-06]\n",
      " [2.9300e-05 6.5000e-03 1.5480e+07 1.5010e+02 2.3280e+17 2.5000e-04\n",
      "  3.6323e-01 6.2078e-01 8.7120e-06]\n",
      " [3.6600e-05 7.0000e-03 1.5480e+07 1.5000e+02 2.3270e+17 3.1000e-04\n",
      "  3.6343e-01 6.2058e-01 8.7280e-06]\n",
      " [4.5000e-05 7.5000e-03 1.5470e+07 1.4990e+02 2.3250e+17 3.8000e-04\n",
      "  3.6364e-01 6.2037e-01 8.7450e-06]\n",
      " [5.4500e-05 8.0000e-03 1.5470e+07 1.4980e+02 2.3240e+17 4.6000e-04\n",
      "  3.6387e-01 6.2014e-01 8.7630e-06]]\n"
     ]
    }
   ],
   "source": [
    "print(File_data)"
   ]
  },
  {
   "cell_type": "code",
   "execution_count": 7,
   "metadata": {},
   "outputs": [
    {
     "data": {
      "text/plain": [
       "array([4.000e-07, 1.500e-03, 1.549e+07, 1.505e+02, 2.334e+17])"
      ]
     },
     "execution_count": 7,
     "metadata": {},
     "output_type": "execute_result"
    }
   ],
   "source": [
    "File_data[0,0:5]"
   ]
  },
  {
   "cell_type": "code",
   "execution_count": 12,
   "metadata": {},
   "outputs": [
    {
     "data": {
      "text/plain": [
       "(14,)"
      ]
     },
     "execution_count": 12,
     "metadata": {},
     "output_type": "execute_result"
    }
   ],
   "source": [
    "np.shape(File_data[:,0])"
   ]
  },
  {
   "cell_type": "code",
   "execution_count": 28,
   "metadata": {},
   "outputs": [
    {
     "name": "stdout",
     "output_type": "stream",
     "text": [
      "0\n",
      "1\n",
      "2\n",
      "3\n",
      "4\n",
      "5\n",
      "6\n",
      "7\n",
      "8\n",
      "9\n",
      "10\n",
      "11\n",
      "12\n",
      "13\n"
     ]
    }
   ],
   "source": [
    "rows, columns = File_data.shape\n",
    "for i in range(rows):\n",
    "    print(i)"
   ]
  },
  {
   "cell_type": "code",
   "execution_count": 19,
   "metadata": {},
   "outputs": [
    {
     "name": "stdout",
     "output_type": "stream",
     "text": [
      "0.36209\n"
     ]
    }
   ],
   "source": [
    "print(File_data[0,6])"
   ]
  },
  {
   "cell_type": "code",
   "execution_count": 11,
   "metadata": {},
   "outputs": [
    {
     "data": {
      "text/plain": [
       "[0, 100, 200]"
      ]
     },
     "execution_count": 11,
     "metadata": {},
     "output_type": "execute_result"
    }
   ],
   "source": [
    "Temps = [];\n",
    "for i in range(100):\n",
    "    Temps.append(i*100)\n",
    "    \n",
    "Temps[0:3]"
   ]
  },
  {
   "cell_type": "code",
   "execution_count": null,
   "metadata": {},
   "outputs": [],
   "source": []
  }
 ],
 "metadata": {
  "kernelspec": {
   "display_name": "Python 3",
   "language": "python",
   "name": "python3"
  },
  "language_info": {
   "codemirror_mode": {
    "name": "ipython",
    "version": 3
   },
   "file_extension": ".py",
   "mimetype": "text/x-python",
   "name": "python",
   "nbconvert_exporter": "python",
   "pygments_lexer": "ipython3",
   "version": "3.8.8"
  }
 },
 "nbformat": 4,
 "nbformat_minor": 4
}
