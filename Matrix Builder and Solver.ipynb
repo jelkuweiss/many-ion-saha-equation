{
 "cells": [
  {
   "cell_type": "code",
   "execution_count": null,
   "id": "4e63e191",
   "metadata": {},
   "outputs": [],
   "source": [
    "#el_names is a list of names ['H','He']\n",
    "#el_dens is a list of densities [5000,6000]\n",
    "#T is the temperature\n",
    "#ALL IN NATURAL UNITS\n",
    "def solver(el_names,el_dens,T):\n",
    "    #Known general data\n",
    "    el_io_levels = {'H':1, 'He':2}\n",
    "     \n",
    "    #First we need to get the dimension of the vector in the matrix:\n",
    "    #Get the total ionisation levels\n",
    "    total_io_levels = 0;\n",
    "    for element in el_names:\n",
    "        total_io_levels = total_io_levels + el_io_levels[element]\n",
    "    #Dimesion of rows of augmented matrix\n",
    "    dim_v = 1 + len(el_names) + total_io_levels\n",
    "    \n",
    "    #Now we build the Matrix\n",
    "    M = []\n",
    "    row = []\n",
    "    column_skip_counter = 0\n",
    "    for element in el_names:\n",
    "        dim_block = el_io_levels[element]+1 #size of the block matrix of each element\n",
    "        for i in range(dim_block):\n",
    "            column_skip_counter = column_skip_counter + 1\n",
    "            for j in range(dim_v):\n",
    "                #first we do all the skipping we have to do\n",
    "                for k in range(0,column_skip_counter):\n",
    "                    row.append(0)\n",
    "                for k in range(column_skip_counter,dim_block):\n",
    "                    \n",
    "                row.append@@\n",
    "                \n",
    "    #Finally append the electron density row            \n",
    "    M.append@@"
   ]
  },
  {
   "cell_type": "code",
   "execution_count": 11,
   "id": "a024c5ad",
   "metadata": {},
   "outputs": [
    {
     "name": "stdout",
     "output_type": "stream",
     "text": [
      "1\n",
      "3\n"
     ]
    }
   ],
   "source": [
    "#Experiementation\n",
    "el_names = ['H','He']\n",
    "el_dens = ['1','2']\n",
    "el_io_levels = {'H':1, 'He':2}\n",
    "print(el_io_levels['H'])\n",
    "total_io_levels = 0;\n",
    "for element in el_names:\n",
    "        total_io_levels = total_io_levels + el_io_levels[element]\n",
    "print(total_io_levels)"
   ]
  },
  {
   "cell_type": "code",
   "execution_count": 6,
   "id": "a9f2fa19",
   "metadata": {},
   "outputs": [
    {
     "name": "stdout",
     "output_type": "stream",
     "text": [
      "range(1, 5)\n",
      "hello\n",
      "hello\n"
     ]
    }
   ],
   "source": [
    "l = [['He', 'h'],['He', 'h']]\n",
    "l.append('He')\n",
    "l.clear()\n",
    "print(range(1,5))\n",
    "\n",
    "for i in range(2,4):\n",
    "    print('hello')"
   ]
  },
  {
   "cell_type": "code",
   "execution_count": null,
   "id": "a65b05cf",
   "metadata": {},
   "outputs": [],
   "source": []
  }
 ],
 "metadata": {
  "kernelspec": {
   "display_name": "Python 3",
   "language": "python",
   "name": "python3"
  },
  "language_info": {
   "codemirror_mode": {
    "name": "ipython",
    "version": 3
   },
   "file_extension": ".py",
   "mimetype": "text/x-python",
   "name": "python",
   "nbconvert_exporter": "python",
   "pygments_lexer": "ipython3",
   "version": "3.8.8"
  }
 },
 "nbformat": 4,
 "nbformat_minor": 5
}
