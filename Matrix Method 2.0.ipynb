{
 "cells": [
  {
   "cell_type": "code",
   "execution_count": null,
   "id": "ce788208",
   "metadata": {},
   "outputs": [],
   "source": [
    "#Imports\n",
    "import numpy as np\n",
    "import matplotlib.pyplot as plt\n",
    "from scipy.optimize import root_scalar\n",
    "from sympy import *\n",
    "import math"
   ]
  },
  {
   "cell_type": "code",
   "execution_count": null,
   "id": "37aa3845",
   "metadata": {},
   "outputs": [],
   "source": [
    "#Constants\n",
    "\n",
    "# Global Constants\n",
    "h =  2*math.pi\n",
    "kb = 1\n",
    "me = 511e3 #[eV]\n",
    "#Ionisation energies (eV)\n",
    "xi_H1  = 13.6\n",
    "xi_He1 = 24.6\n",
    "xi_He2 = 54.4\n",
    "#Partition Functions (taken from independent solutions for\n",
    "# each element, so might not be as obvious as they are here...)\n",
    "zh0  = 2\n",
    "zh1  = 1\n",
    "zhe0 = 1\n",
    "zhe1 = 2\n",
    "zhe2 = 1"
   ]
  },
  {
   "cell_type": "code",
   "execution_count": null,
   "id": "2a0f587a",
   "metadata": {},
   "outputs": [],
   "source": [
    "#Functions\n",
    "\n",
    "#Define the right side of the Saha Equation, which depends on \n",
    "# the Temperature [T], the difference in energies of the states [xi]\n",
    "# and the fraction of the partition functions G(r+1)/G(r) [z0,z1]\n",
    "def lam(T,xi,z0,z1):\n",
    "    return (z1/z0) * ((2*math.pi*me*kb*T)**1.5 / (h**3)) * math.exp((-xi) / (kb*T));"
   ]
  },
  {
   "cell_type": "code",
   "execution_count": null,
   "id": "43e9e194",
   "metadata": {},
   "outputs": [],
   "source": [
    "#Main Function\n",
    "\n",
    "#Import the data on the densities and temperatures\n",
    "imported_data = np.loadtxt(\"reduced_data.txt\", dtype=np.float64)\n",
    "rows, columns = imported_data.shape\n",
    "\n",
    "data_export = open('results5.txt', 'a')\n",
    "\n",
    "#Loop over all the rows\n",
    "for i in range(rows):\n",
    "    #Get the value for that radius of the Sun\n",
    "    nH = (imported_data[i,6])*4.31013646*(10**18)/(0.93878405573*10**9)\n",
    "    #nHe = (imported_data[i,7])*4.31013646*(10**18)/(0.372784341*10**(10))\n",
    "    nHe = (0)*4.31013646*(10**18)/(0.372784341*10**(10))\n",
    "    T = (imported_data[i,2])/11604.51812\n",
    "\n",
    "    #Making the electron density into a symbolic variable\n",
    "    nE = symbols('n_e')\n",
    "\n",
    "    #The matrix representing the system of equations and their value\n",
    "    M = Matrix([[-lam(T,xi_H1,zh0,zh1), nE,                        0,                        0,   0,   0],\n",
    "                [                    0,  0, -lam(T,xi_He1,zhe0,zhe1),                       nE,   0,   0],\n",
    "                [                    0,  0,                        0, -lam(T,xi_He2,zhe1,zhe2),  nE,   0],\n",
    "                [                    1,  1,                        0,                        0,   0,  nH],\n",
    "                [                    0,  0,                        1,                        1,   1, nHe],\n",
    "                [                    0,  1,                        0,                        1,   2,  nE]])\n",
    "\n",
    "\n",
    "    #Building this equation in order to take it to zero later to find the value of n_e\n",
    "    expr = M.det()\n",
    "    def eq(ne):\n",
    "        return expr.subs(nE,ne)\n",
    "    \n",
    "    #Maximum electron density to limit the optimiser\n",
    "    max_ne = nH + 2*nHe;\n",
    "    #print(\"The maximum electron density:\")\n",
    "    #print(max_ne)\n",
    "\n",
    "    #minimum is obvious\n",
    "    min_ne = 0\n",
    "\n",
    "    #Solving for electron density\n",
    "    sol = root_scalar(eq, method='brentq', bracket=(min_ne,max_ne))\n",
    "    #print(sol)\n",
    "    #print(\"\\nThe ionisation percentage:\")\n",
    "    #print((sol.root * 100)/max_ne)\n",
    "\n",
    "    #Subsitute into the matrix\n",
    "    M.subs(nE,sol.root)\n",
    "\n",
    "    #Convert it now to a numpy matrix and take the system part(not augmented) out\n",
    "    MM = np.array(np.array(M.subs(nE,sol.root)), np.float64)\n",
    "    #print(MM)\n",
    "    M1 = MM[0:5,0:5]\n",
    "    M2 = MM[0:5,5]\n",
    "    #The solution in form of (nh0,nh1,nhe0,nhe1,nhe2)\n",
    "    xx = np.linalg.solve(M1, M2)\n",
    "\n",
    "    #Now write to the export file\n",
    "    imported_data[i,0:8].tofile(data_export, sep=' ', format='%s')\n",
    "    data_export.write(\" \")\n",
    "    xx.tofile(data_export, sep=' ', format='%s')\n",
    "    data_export.write(\"\\n\")\n",
    "\n",
    "    print((i*100)/row)\n",
    "\n",
    "print(\"Done\")"
   ]
  },
  {
   "cell_type": "code",
   "execution_count": 5,
   "id": "684a05d0",
   "metadata": {},
   "outputs": [
    {
     "name": "stdout",
     "output_type": "stream",
     "text": [
      "1\n"
     ]
    }
   ],
   "source": [
    "#Execution\n",
    "z = {'He':2,'H':1}\n",
    "print(z['H'])"
   ]
  },
  {
   "cell_type": "code",
   "execution_count": null,
   "id": "df2de5b8",
   "metadata": {},
   "outputs": [],
   "source": []
  }
 ],
 "metadata": {
  "kernelspec": {
   "display_name": "Python 3",
   "language": "python",
   "name": "python3"
  },
  "language_info": {
   "codemirror_mode": {
    "name": "ipython",
    "version": 3
   },
   "file_extension": ".py",
   "mimetype": "text/x-python",
   "name": "python",
   "nbconvert_exporter": "python",
   "pygments_lexer": "ipython3",
   "version": "3.8.8"
  }
 },
 "nbformat": 4,
 "nbformat_minor": 5
}
